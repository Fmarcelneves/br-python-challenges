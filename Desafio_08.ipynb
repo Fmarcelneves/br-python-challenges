{
  "nbformat": 4,
  "nbformat_minor": 0,
  "metadata": {
    "anaconda-cloud": {},
    "kernelspec": {
      "display_name": "Python 3",
      "language": "python",
      "name": "python3"
    },
    "language_info": {
      "codemirror_mode": {
        "name": "ipython",
        "version": 3
      },
      "file_extension": ".py",
      "mimetype": "text/x-python",
      "name": "python",
      "nbconvert_exporter": "python",
      "pygments_lexer": "ipython3",
      "version": "3.6.5"
    },
    "colab": {
      "name": "Desafio 8.ipynb",
      "provenance": [],
      "toc_visible": true,
      "include_colab_link": true
    }
  },
  "cells": [
    {
      "cell_type": "markdown",
      "metadata": {
        "id": "view-in-github",
        "colab_type": "text"
      },
      "source": [
        "<a href=\"https://colab.research.google.com/github/Fmarcelneves/br-python-challenges/blob/master/Desafio_08.ipynb\" target=\"_parent\"><img src=\"https://colab.research.google.com/assets/colab-badge.svg\" alt=\"Open In Colab\"/></a>"
      ]
    },
    {
      "cell_type": "markdown",
      "metadata": {
        "id": "o3tkeMDNf6Jo",
        "colab_type": "text"
      },
      "source": [
        "### Desafio 8\n",
        "\n",
        "Escreva um script Python para encontrar as 10 palavras mais longas em um arquivo.\n",
        "\n",
        "O arquivo TXT está localizado na mesma pasta do projeto (texto.txt)."
      ]
    },
    {
      "cell_type": "code",
      "metadata": {
        "id": "EknxjSG0f6Jo",
        "colab_type": "code",
        "colab": {
          "base_uri": "https://localhost:8080/",
          "height": 154
        },
        "outputId": "931af13a-f480-4fd3-f2e2-d0b4ff0c4dd3"
      },
      "source": [
        "# Seu código.\n",
        "import urllib.request\n",
        "url = \"https://raw.githubusercontent.com/Fmarcelneves/br-python-challenges/master/texto.txt\"\n",
        "file = urllib.request.urlopen(url)\n",
        "for line in file:\n",
        "\ttexto = line.decode(\"utf-8\")\n",
        "\tprint(texto) \n",
        " "
      ],
      "execution_count": 24,
      "outputs": [
        {
          "output_type": "stream",
          "text": [
            "What is Python language?                                                \r\n",
            "\n",
            "Python is a widely used high-level, general-purpose, interpreted, dynamic programming language.Its design philosophy emphasizes code readability, and its syntax allows programmers to express concepts in fewer lines of code than possible in \r\n",
            "\n",
            "languages such as C++ or Java. \r\n",
            "\n",
            "Python supports multiple programming paradigms, including object-oriented, imperative and functional programming or procedural styles.It features a dynamic type system and automatic memory management and has a large and comprehensive standard library.The best way we learn anything is by practice and exercise questions. We  have started this section for those (beginner to intermediate) who are familiar with Python.\n"
          ],
          "name": "stdout"
        }
      ]
    },
    {
      "cell_type": "code",
      "metadata": {
        "id": "EOmZ9D952DDl",
        "colab_type": "code",
        "colab": {
          "base_uri": "https://localhost:8080/",
          "height": 54
        },
        "outputId": "2a7dfc19-9039-4b23-b10c-dbe2b6a53fc6"
      },
      "source": [
        "txt = texto.replace('?', ' ').replace(',', ' ').replace('.', ' ').replace('(', ' ').replace(')', ' ').replace('\\n', ' ').replace('\\r', ' ')\n",
        "print(txt)"
      ],
      "execution_count": 26,
      "outputs": [
        {
          "output_type": "stream",
          "text": [
            "Python supports multiple programming paradigms  including object-oriented  imperative and functional programming or procedural styles It features a dynamic type system and automatic memory management and has a large and comprehensive standard library The best way we learn anything is by practice and exercise questions  We  have started this section for those  beginner to intermediate  who are familiar with Python \n"
          ],
          "name": "stdout"
        }
      ]
    },
    {
      "cell_type": "code",
      "metadata": {
        "id": "nkI0bjKQXPk7",
        "colab_type": "code",
        "colab": {
          "base_uri": "https://localhost:8080/",
          "height": 54
        },
        "outputId": "e19e6e9b-a6cc-4198-9482-d522d765506b"
      },
      "source": [
        "#separar palavras do texto em uma lista \n",
        "palavras_do_texto = txt.split()\n",
        "print(palavras_do_texto)"
      ],
      "execution_count": 27,
      "outputs": [
        {
          "output_type": "stream",
          "text": [
            "['Python', 'supports', 'multiple', 'programming', 'paradigms', 'including', 'object-oriented', 'imperative', 'and', 'functional', 'programming', 'or', 'procedural', 'styles', 'It', 'features', 'a', 'dynamic', 'type', 'system', 'and', 'automatic', 'memory', 'management', 'and', 'has', 'a', 'large', 'and', 'comprehensive', 'standard', 'library', 'The', 'best', 'way', 'we', 'learn', 'anything', 'is', 'by', 'practice', 'and', 'exercise', 'questions', 'We', 'have', 'started', 'this', 'section', 'for', 'those', 'beginner', 'to', 'intermediate', 'who', 'are', 'familiar', 'with', 'Python']\n"
          ],
          "name": "stdout"
        }
      ]
    },
    {
      "cell_type": "code",
      "metadata": {
        "id": "lYYmdNE-VOjV",
        "colab_type": "code",
        "colab": {
          "base_uri": "https://localhost:8080/",
          "height": 54
        },
        "outputId": "3af65a15-1cb2-4ac6-f022-5269a8e2f34e"
      },
      "source": [
        " #as 10 palavras mais longas do texto \n",
        " palavras=sorted(palavras, key=len, reverse=True)\n",
        " print(\"As 10 palavras mais longas do arquivo são: %s.\" % (palavras[:10],))"
      ],
      "execution_count": 28,
      "outputs": [
        {
          "output_type": "stream",
          "text": [
            "As 10 palavras mais longas do arquivo são: ['object-oriented', 'comprehensive', 'intermediate', 'programming', 'functional', 'imperative', 'management', 'procedural', 'automatic', 'including'].\n"
          ],
          "name": "stdout"
        }
      ]
    }
  ]
}