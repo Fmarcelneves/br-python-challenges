{
  "nbformat": 4,
  "nbformat_minor": 0,
  "metadata": {
    "anaconda-cloud": {},
    "kernelspec": {
      "display_name": "Python 3",
      "language": "python",
      "name": "python3"
    },
    "language_info": {
      "codemirror_mode": {
        "name": "ipython",
        "version": 3
      },
      "file_extension": ".py",
      "mimetype": "text/x-python",
      "name": "python",
      "nbconvert_exporter": "python",
      "pygments_lexer": "ipython3",
      "version": "3.6.5"
    },
    "colab": {
      "name": "Desafio 12.ipynb",
      "provenance": [],
      "include_colab_link": true
    }
  },
  "cells": [
    {
      "cell_type": "markdown",
      "metadata": {
        "id": "view-in-github",
        "colab_type": "text"
      },
      "source": [
        "<a href=\"https://colab.research.google.com/github/Fmarcelneves/br-python-challenges/blob/master/Desafio_12.ipynb\" target=\"_parent\"><img src=\"https://colab.research.google.com/assets/colab-badge.svg\" alt=\"Open In Colab\"/></a>"
      ]
    },
    {
      "cell_type": "markdown",
      "metadata": {
        "id": "AYHY2YXQf6J2",
        "colab_type": "text"
      },
      "source": [
        "### Desafio 12\n",
        "\n",
        "Escreva uma função em Python para verificar a validade de uma senha.\n",
        "\n",
        "Validação:\n",
        "\n",
        "* Pelo menos 1 letra entre [a-z] e 1 letra entre [A-Z].\n",
        "* Pelo menos 1 número entre [0-9].\n",
        "* Pelo menos 1 caractere de [$ # @].\n",
        "* Comprimento mínimo de 6 caracteres.\n",
        "* Comprimento máximo de 16 caracteres.\n",
        "\n",
        "Entradas: \"12345678\", \"J3sus0\", \"#Te5t300\", \"J*90j12374\", \"Michheeul\", \"Monk3y6\"\n",
        "\n",
        "A saída deve ser a senha e um texto indicando se a senha é válida ou inválida:\n",
        "\n",
        "```\n",
        "\"1234\" - Senha inválida\n",
        "\"Qw#1234\" - Senha válida\n",
        "```"
      ]
    },
    {
      "cell_type": "code",
      "metadata": {
        "id": "yhkESiqUTOaS",
        "colab_type": "code",
        "colab": {}
      },
      "source": [
        "passwords= (\"12345678\", \"J3sus0\", \"#Te5t300\", \"J*90j12374\", \"Michheeul\", \"Monk3y6\")"
      ],
      "execution_count": null,
      "outputs": []
    },
    {
      "cell_type": "code",
      "metadata": {
        "id": "UGgtGYGGf6J3",
        "colab_type": "code",
        "colab": {}
      },
      "source": [
        "# Seu código\n",
        "import re\n",
        "#checar letra maiscula e minuscula \n",
        "def valid_password(password):\n",
        "  if not re.search('[a-z]', password) or not re.search('[A-Z]', password):\n",
        "    print('\\\"'+password +'\\\" - Senha inválida, sua senha deve ter pelo menos 1 letra entre [a-z] e [A-Z]')\n",
        "      else:\n",
        "        print('\\\"'+password +'\\\" - Senha válida')\n",
        "     \n",
        "     #Pelo menos 1 número entre [0-9].\n",
        "  elif not re.search('[0-9]', password):\n",
        "    print('\\\"'+password +'\\\" - Senha inválida, sua senha deve ter pelo menos 1 número entre [0-9]')\n",
        "  else: \n",
        "    print('Senha válida')"
      ],
      "execution_count": 105,
      "outputs": []
    },
    {
      "cell_type": "code",
      "metadata": {
        "id": "NJ--nInsS-gn",
        "colab_type": "code",
        "colab": {
          "base_uri": "https://localhost:8080/",
          "height": 34
        },
        "outputId": "785bec59-ec26-4b1e-abf6-916af870b258"
      },
      "source": [
        "valid_password(passwords[1])"
      ],
      "execution_count": 89,
      "outputs": [
        {
          "output_type": "stream",
          "text": [
            "\"J3sus0\" - Senha válida\n"
          ],
          "name": "stdout"
        }
      ]
    },
    {
      "cell_type": "code",
      "metadata": {
        "id": "9C1G5h60RTte",
        "colab_type": "code",
        "colab": {}
      },
      "source": [
        "import re\n",
        "\n",
        "def valid_password(password):\n",
        "  # Checar comprimento minimo\n",
        "  if len(password)<6:\n",
        "    print('\\\"'+password +'\\\" - Senha inválida')\n",
        "    print('Comprimento mínimo de 6 caracteres')\n",
        "\n",
        "  # Checar comprimento máximo\n",
        "  elif len(password)>16:\n",
        "    print('\\\"'+password +'\\\" - Senha inválida')\n",
        "    print('Comprimento máximo de 16 caracteres')\n",
        "\n",
        "  # Checar se tem caracteres especiais\n",
        "  elif not re.search('[$|#|@]', password):\n",
        "    print('\\\"'+password +'\\\" - Senha inválida')\n",
        "    print('Pelo menos 1 caractere de [$ # @]')\n",
        "\n",
        "  # Checar se tem numero\n",
        "  elif not re.search('[0-9]', password):\n",
        "    print('\\\"'+password +'\\\" - Senha inválida')\n",
        "    print('Pelo menos 1 número entre [0-9]')\n",
        "  \n",
        "  # Checar se tem letra minuscula\n",
        "  elif not re.search('[a-z]', password):\n",
        "    print('\\\"'+password +'\\\" - Senha inválida')\n",
        "    print('Pelo menos 1 letra entre [a-z]')\n",
        "\n",
        "  # Checar se tem letra maiuscula\n",
        "  elif not re.search('[A-Z]', password):\n",
        "    print('\\\"'+password +'\\\" - Senha inválida')\n",
        "    print('Pelo menos 1 letra entre [A-Z]')"
      ],
      "execution_count": 91,
      "outputs": []
    }
  ]
}