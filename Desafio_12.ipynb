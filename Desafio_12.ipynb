{
  "nbformat": 4,
  "nbformat_minor": 0,
  "metadata": {
    "anaconda-cloud": {},
    "kernelspec": {
      "display_name": "Python 3",
      "language": "python",
      "name": "python3"
    },
    "language_info": {
      "codemirror_mode": {
        "name": "ipython",
        "version": 3
      },
      "file_extension": ".py",
      "mimetype": "text/x-python",
      "name": "python",
      "nbconvert_exporter": "python",
      "pygments_lexer": "ipython3",
      "version": "3.6.5"
    },
    "colab": {
      "name": "Desafio 12.ipynb",
      "provenance": [],
      "include_colab_link": true
    }
  },
  "cells": [
    {
      "cell_type": "markdown",
      "metadata": {
        "id": "view-in-github",
        "colab_type": "text"
      },
      "source": [
        "<a href=\"https://colab.research.google.com/github/Fmarcelneves/br-python-challenges/blob/master/Desafio_12.ipynb\" target=\"_parent\"><img src=\"https://colab.research.google.com/assets/colab-badge.svg\" alt=\"Open In Colab\"/></a>"
      ]
    },
    {
      "cell_type": "markdown",
      "metadata": {
        "id": "AYHY2YXQf6J2",
        "colab_type": "text"
      },
      "source": [
        "### Desafio 12\n",
        "\n",
        "Escreva uma função em Python para verificar a validade de uma senha.\n",
        "\n",
        "Validação:\n",
        "\n",
        "* Pelo menos 1 letra entre [a-z] e 1 letra entre [A-Z].\n",
        "* Pelo menos 1 número entre [0-9].\n",
        "* Pelo menos 1 caractere de [$ # @].\n",
        "* Comprimento mínimo de 6 caracteres.\n",
        "* Comprimento máximo de 16 caracteres.\n",
        "\n",
        "Entradas: \"12345678\", \"J3sus0\", \"#Te5t300\", \"J*90j12374\", \"Michheeul\", \"Monk3y6\"\n",
        "\n",
        "A saída deve ser a senha e um texto indicando se a senha é válida ou inválida:\n",
        "\n",
        "```\n",
        "\"1234\" - Senha inválida\n",
        "\"Qw#1234\" - Senha válida\n",
        "```"
      ]
    },
    {
      "cell_type": "code",
      "metadata": {
        "id": "yhkESiqUTOaS",
        "colab_type": "code",
        "colab": {}
      },
      "source": [
        "passwords= (\"12345678\", \"J3sus0\", \"#Te5t300\", \"J*90j12374\", \"Michheeul\", \"Monk3y6\")"
      ],
      "execution_count": 2,
      "outputs": []
    },
    {
      "cell_type": "code",
      "metadata": {
        "id": "OGefLY0Vd2vM",
        "colab_type": "code",
        "colab": {}
      },
      "source": [
        "# Seu código\n",
        "import re\n",
        "#checar letra maiscula e minuscula \n",
        "def valid_password(password):\n",
        "  if not re.search('[a-z]', password) or not re.search('[A-Z]', password):\n",
        "    print('\\\"'+password +'\\\" - Senha inválida, sua senha deve ter pelo menos 1 letra entre [a-z] e [A-Z]')\n",
        "     \n",
        "     #Pelo menos 1 número entre [0-9].\n",
        "  elif not re.search('[0-9]', password):\n",
        "    print('\\\"'+password +'\\\" - Senha inválida, sua senha deve ter pelo menos 1 número entre [0-9]')\n",
        "\n",
        "      # Checar se tem caracteres especiais\n",
        "  elif not re.search('[$|#|@]', password):\n",
        "    print('\\\"'+password +'\\\" - Senha inválida, sua senha deve ter pelo menos 1 caratere de [$|#|@]')\n",
        "\n",
        "  # Checar comprimento minimo\n",
        "  elif len(password)<6:\n",
        "    print('\\\"'+password +'\\\" - Senha inválida, comprimento mínimo de 6 caracteres')\n",
        "\n",
        "  # Checar comprimento máximo\n",
        "  elif len(password)>16:\n",
        "     print('\\\"'+password +'\\\" - Senha inválida, comprimento máximo de 16 caracteres')\n",
        "\n",
        "  #caso as validações ocorrerem, a senha é válida\n",
        "  elif re.search('[a-z]', password) or re.search('[A-Z]', password) or  re.search('[0-9]', password) or re.search('[$|#|@]', password) or len(password)>=6 or len(password)<= 16:\n",
        "    print('\\\"'+password +'\\\" - Senha válida')\n",
        "\n",
        "\n"
      ],
      "execution_count": 41,
      "outputs": []
    },
    {
      "cell_type": "code",
      "metadata": {
        "id": "jNlf_HbRi-n-",
        "colab_type": "code",
        "colab": {
          "base_uri": "https://localhost:8080/",
          "height": 34
        },
        "outputId": "4d282ec4-a64f-4d06-bcce-762375d1a5fa"
      },
      "source": [
        "valid_password(passwords[0])"
      ],
      "execution_count": 42,
      "outputs": [
        {
          "output_type": "stream",
          "text": [
            "\"12345678\" - Senha inválida, sua senha deve ter pelo menos 1 letra entre [a-z] e [A-Z]\n"
          ],
          "name": "stdout"
        }
      ]
    },
    {
      "cell_type": "code",
      "metadata": {
        "id": "hxh9hMqrnTxj",
        "colab_type": "code",
        "colab": {}
      },
      "source": [
        "valid_password(passwords[1])"
      ],
      "execution_count": null,
      "outputs": []
    },
    {
      "cell_type": "code",
      "metadata": {
        "id": "casE7o_IjD1h",
        "colab_type": "code",
        "colab": {
          "base_uri": "https://localhost:8080/",
          "height": 34
        },
        "outputId": "2966be49-c47f-4beb-a763-a726c93fc635"
      },
      "source": [
        "valid_password(passwords[2])"
      ],
      "execution_count": 16,
      "outputs": [
        {
          "output_type": "stream",
          "text": [
            "\"#Te5t300\" - Senha válida\n"
          ],
          "name": "stdout"
        }
      ]
    },
    {
      "cell_type": "code",
      "metadata": {
        "id": "zL-DPArxkDyC",
        "colab_type": "code",
        "colab": {
          "base_uri": "https://localhost:8080/",
          "height": 34
        },
        "outputId": "39666cd3-de34-4e0d-d38a-550ea8d4849c"
      },
      "source": [
        "valid_password(passwords[3])"
      ],
      "execution_count": 40,
      "outputs": [
        {
          "output_type": "stream",
          "text": [
            "\"#Te533\" - Senha válida\n"
          ],
          "name": "stdout"
        }
      ]
    },
    {
      "cell_type": "code",
      "metadata": {
        "id": "UXGaB4yFkYnA",
        "colab_type": "code",
        "colab": {
          "base_uri": "https://localhost:8080/",
          "height": 34
        },
        "outputId": "a699dffa-6a24-4d02-9fb5-943e9ca4e9d7"
      },
      "source": [
        "valid_password(passwords[4])"
      ],
      "execution_count": 43,
      "outputs": [
        {
          "output_type": "stream",
          "text": [
            "\"Michheeul\" - Senha inválida, sua senha deve ter pelo menos 1 número entre [0-9]\n"
          ],
          "name": "stdout"
        }
      ]
    },
    {
      "cell_type": "code",
      "metadata": {
        "id": "NXzUX0Wanchw",
        "colab_type": "code",
        "colab": {
          "base_uri": "https://localhost:8080/",
          "height": 34
        },
        "outputId": "d2f256e1-8243-415e-eee4-8ee21586a3e8"
      },
      "source": [
        "valid_password(passwords[5])"
      ],
      "execution_count": 44,
      "outputs": [
        {
          "output_type": "stream",
          "text": [
            "\"Monk3y6\" - Senha inválida, sua senha deve ter pelo menos 1 caratere de [$|#|@]\n"
          ],
          "name": "stdout"
        }
      ]
    }
  ]
}